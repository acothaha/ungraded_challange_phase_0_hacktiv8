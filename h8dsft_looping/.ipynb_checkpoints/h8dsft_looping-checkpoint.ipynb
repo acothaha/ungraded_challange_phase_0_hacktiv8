{
 "cells": [
  {
   "cell_type": "markdown",
   "id": "3cb293ec-cee6-4c17-9d41-57a1a809b9b8",
   "metadata": {},
   "source": [
    "# Full Stack Data Science // Non-Graded Challenge 2"
   ]
  },
  {
   "cell_type": "markdown",
   "id": "9acead80-d908-4dee-82ad-703b7efb4e6c",
   "metadata": {},
   "source": [
    "## Question "
   ]
  },
  {
   "cell_type": "markdown",
   "id": "a5a7e279-cb49-422c-9e49-3937f1fe4d1b",
   "metadata": {},
   "source": [
    "- Buatlah sebuah list dengan value berupa:\n",
    "\n",
    "numbers = [951, 402, 984, 651, 360, 69, 408,\n",
    "319, 601, 485, 980, 507, 725, 547, 544, 615,\n",
    "83, 165, 141, 501, 263, 617, 865, 575, 219,\n",
    "390, 984, 592, 236, 105, 942, 941, 386, 462,\n",
    "47, 418, 907, 344, 236, 375, 823, 566, 597,\n",
    "978, 328, 615, 953, 345, 399, 162, 758, 219,\n",
    "918, 237, 412, 566, 826, 248, 866, 950, 626,\n",
    "949]\n",
    "- Loop dan print semua angka <mark>genap</mark> dari list angka diatas dengan urutan yang sama.\n",
    "- Jangan mencetak angka apapun yang muncul setelah angka <mark>918</mark> berdasarkan posisi angka tersebut pada list diatas.\n",
    "- Tampilkan pesan ”Done” setelah looping berakhir"
   ]
  },
  {
   "cell_type": "markdown",
   "id": "eca7d54c-1b74-4d14-b60a-19a7138f7ec3",
   "metadata": {},
   "source": [
    "## Initiating Data "
   ]
  },
  {
   "cell_type": "code",
   "execution_count": 3,
   "id": "204a4880-1785-4f59-857d-3f95d382d89c",
   "metadata": {},
   "outputs": [],
   "source": [
    "numbers = [951, 402, 984, 651, 360, 69, 408,\n",
    "319, 601, 485, 980, 507, 725, 547, 544, 615,\n",
    "83, 165, 141, 501, 263, 617, 865, 575, 219,\n",
    "390, 984, 592, 236, 105, 942, 941, 386, 462,\n",
    "47, 418, 907, 344, 236, 375, 823, 566, 597,\n",
    "978, 328, 615, 953, 345, 399, 162, 758, 219,\n",
    "918, 237, 412, 566, 826, 248, 866, 950, 626,\n",
    "949]"
   ]
  },
  {
   "cell_type": "markdown",
   "id": "4d4edeb1-63ff-4a37-9eb7-265b351e80af",
   "metadata": {},
   "source": [
    "## Answer "
   ]
  },
  {
   "cell_type": "code",
   "execution_count": 13,
   "id": "291ffa02-b970-44aa-8f4b-7d7b29737c18",
   "metadata": {},
   "outputs": [
    {
     "name": "stdout",
     "output_type": "stream",
     "text": [
      "402\n",
      "984\n",
      "360\n",
      "408\n",
      "980\n",
      "544\n",
      "390\n",
      "984\n",
      "592\n",
      "236\n",
      "942\n",
      "386\n",
      "462\n",
      "418\n",
      "344\n",
      "236\n",
      "566\n",
      "978\n",
      "328\n",
      "162\n",
      "758\n",
      "Done\n"
     ]
    }
   ],
   "source": [
    "# looping every single item in the number list\n",
    "for i in numbers:\n",
    "    # checking if the item is an even number using modulus\n",
    "    if i % 2 == 0:\n",
    "        print(i)\n",
    "    # Checking if the item is equal to 918, if yes then the loop is terminated\n",
    "    if i == 918:\n",
    "        break\n",
    "# After loop is terminated then printing \"Done\"\n",
    "print('Done') "
   ]
  }
 ],
 "metadata": {
  "kernelspec": {
   "display_name": "Python 3",
   "language": "python",
   "name": "python3"
  },
  "language_info": {
   "codemirror_mode": {
    "name": "ipython",
    "version": 3
   },
   "file_extension": ".py",
   "mimetype": "text/x-python",
   "name": "python",
   "nbconvert_exporter": "python",
   "pygments_lexer": "ipython3",
   "version": "3.8.8"
  }
 },
 "nbformat": 4,
 "nbformat_minor": 5
}
