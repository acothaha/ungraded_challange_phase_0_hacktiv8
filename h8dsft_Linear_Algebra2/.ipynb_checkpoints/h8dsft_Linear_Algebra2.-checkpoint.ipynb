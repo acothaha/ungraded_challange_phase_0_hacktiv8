{
 "cells": [
  {
   "cell_type": "markdown",
   "id": "0b1bbfc5-af08-49f6-9092-f79f421d1534",
   "metadata": {},
   "source": [
    "# Full Stack Data Science // Non-Graded Challenge 5"
   ]
  },
  {
   "cell_type": "markdown",
   "id": "f813472d-e68b-448f-8954-133d345eea79",
   "metadata": {},
   "source": [
    "## Instruction "
   ]
  },
  {
   "cell_type": "markdown",
   "id": "b9c07ff6-1cac-4249-8bf6-93babd007808",
   "metadata": {},
   "source": [
    "![problem 1](Capture1.PNG)\n",
    "\n",
    "![problem 2](Capture2.PNG)\n",
    "\n",
    "![problem 3](Capture3.PNG)"
   ]
  },
  {
   "cell_type": "markdown",
   "id": "0207f148-f5e1-4ef0-a2d4-dd50c45182ee",
   "metadata": {},
   "source": [
    "## Import Libraries \n",
    "\n",
    "These are libraries that are used in this assignment:\n",
    "\n",
    "- numpy : Used to create vector and do vector calculation"
   ]
  },
  {
   "cell_type": "code",
   "execution_count": 1,
   "id": "caa3d4fe-e6ac-4f04-835d-0a7a92b67521",
   "metadata": {},
   "outputs": [],
   "source": [
    "import numpy as np"
   ]
  },
  {
   "cell_type": "markdown",
   "id": "ed83c0f1-0497-4113-826f-dd915809279a",
   "metadata": {},
   "source": [
    "## Answer "
   ]
  },
  {
   "cell_type": "markdown",
   "id": "6bdf72c3-cce8-4b13-aed0-fab541229cc1",
   "metadata": {},
   "source": [
    "####  Problem 1"
   ]
  },
  {
   "cell_type": "code",
   "execution_count": 2,
   "id": "3e19cd89-2edb-48ef-a43e-b7c436f4cd80",
   "metadata": {},
   "outputs": [],
   "source": [
    "M1 = np.array([[23, 50],\n",
    "               [7, 12]])\n",
    "M2 = np.array([[57, 67],\n",
    "               [99, 43]])\n",
    "M3 = np.array([[75, 21],\n",
    "               [57, 12]])\n",
    "M4 = np.array([[87, 26],\n",
    "               [18, 84]])"
   ]
  },
  {
   "cell_type": "code",
   "execution_count": 12,
   "id": "c77d3c92-1832-4048-a9b5-30bc9b98c192",
   "metadata": {},
   "outputs": [
    {
     "data": {
      "text/plain": [
       "array([[[[23, 50],\n",
       "         [ 7, 12]],\n",
       "\n",
       "        [[57, 67],\n",
       "         [99, 43]]],\n",
       "\n",
       "\n",
       "       [[[75, 21],\n",
       "         [57, 12]],\n",
       "\n",
       "        [[87, 26],\n",
       "         [18, 84]]]])"
      ]
     },
     "execution_count": 12,
     "metadata": {},
     "output_type": "execute_result"
    }
   ],
   "source": [
    "tensor = np.array([[M1, M2],\n",
    "                   [M3, M4]])\n",
    "tensor"
   ]
  },
  {
   "cell_type": "code",
   "execution_count": 13,
   "id": "d83ad19e-5c20-46c9-b350-b80c33268605",
   "metadata": {},
   "outputs": [
    {
     "data": {
      "text/plain": [
       "(2, 2, 2, 2)"
      ]
     },
     "execution_count": 13,
     "metadata": {},
     "output_type": "execute_result"
    }
   ],
   "source": [
    "tensor.shape"
   ]
  },
  {
   "cell_type": "markdown",
   "id": "41397291-aaa1-44a7-b561-497b9e8d68f7",
   "metadata": {},
   "source": [
    "####  Problem 2"
   ]
  },
  {
   "cell_type": "code",
   "execution_count": 14,
   "id": "59a428e4-9c4f-4c88-8180-224aa198da4a",
   "metadata": {},
   "outputs": [
    {
     "data": {
      "text/plain": [
       "(3, 3)"
      ]
     },
     "execution_count": 14,
     "metadata": {},
     "output_type": "execute_result"
    }
   ],
   "source": [
    "A = np.array([[23, 50, 19],\n",
    "              [7, 12, 109],\n",
    "              [57, 67, 98]])\n",
    "A.shape"
   ]
  },
  {
   "cell_type": "code",
   "execution_count": 16,
   "id": "b50f280a-1e2e-4ccd-b132-7dbe7516a271",
   "metadata": {},
   "outputs": [
    {
     "data": {
      "text/plain": [
       "(3, 1)"
      ]
     },
     "execution_count": 16,
     "metadata": {},
     "output_type": "execute_result"
    }
   ],
   "source": [
    "B = np.array([[17],\n",
    "              [22],\n",
    "              [19]])\n",
    "\n",
    "B.shape"
   ]
  },
  {
   "cell_type": "code",
   "execution_count": 17,
   "id": "f44b96b0-67a2-40a5-a1dd-93ab6a13d7ff",
   "metadata": {},
   "outputs": [
    {
     "data": {
      "text/plain": [
       "array([[1852],\n",
       "       [2454],\n",
       "       [4305]])"
      ]
     },
     "execution_count": 17,
     "metadata": {},
     "output_type": "execute_result"
    }
   ],
   "source": [
    "A @ B"
   ]
  },
  {
   "cell_type": "markdown",
   "id": "24673321-7f46-4d1a-ba46-0b3c74c2aeb1",
   "metadata": {},
   "source": [
    "####  Problem 3"
   ]
  },
  {
   "cell_type": "code",
   "execution_count": 18,
   "id": "8a6ba931-14c6-4a95-9ad6-2fa29b9869e3",
   "metadata": {},
   "outputs": [
    {
     "data": {
      "text/plain": [
       "(3, 3)"
      ]
     },
     "execution_count": 18,
     "metadata": {},
     "output_type": "execute_result"
    }
   ],
   "source": [
    "A = np.array([[23, 50, 19],\n",
    "              [7, 12, 109],\n",
    "              [57, 67, 98]])\n",
    "\n",
    "A.shape"
   ]
  },
  {
   "cell_type": "code",
   "execution_count": 19,
   "id": "007be8ed-d29e-4d25-89ef-264ebeadbd8e",
   "metadata": {},
   "outputs": [
    {
     "data": {
      "text/plain": [
       "array([[ 23,   7,  57],\n",
       "       [ 50,  12,  67],\n",
       "       [ 19, 109,  98]])"
      ]
     },
     "execution_count": 19,
     "metadata": {},
     "output_type": "execute_result"
    }
   ],
   "source": [
    "# transpose\n",
    "\n",
    "A.T"
   ]
  },
  {
   "cell_type": "code",
   "execution_count": 20,
   "id": "9c2a8ea1-d06a-4d7f-bdc1-ec9aec5e995c",
   "metadata": {},
   "outputs": [
    {
     "data": {
      "text/plain": [
       "131344.0000000002"
      ]
     },
     "execution_count": 20,
     "metadata": {},
     "output_type": "execute_result"
    }
   ],
   "source": [
    "# finding determinant\n",
    "\n",
    "np.linalg.det(A)"
   ]
  },
  {
   "cell_type": "code",
   "execution_count": 21,
   "id": "db95af42-4a49-4e64-86d4-fa9dc8b72d09",
   "metadata": {},
   "outputs": [
    {
     "data": {
      "text/plain": [
       "array([[-0.0466485 , -0.02761451,  0.03975819],\n",
       "       [ 0.04208034,  0.00891552, -0.01807467],\n",
       "       [-0.00163692,  0.0099662 , -0.00056341]])"
      ]
     },
     "execution_count": 21,
     "metadata": {},
     "output_type": "execute_result"
    }
   ],
   "source": [
    "# finding inverse\n",
    "\n",
    "np.linalg.inv(A)"
   ]
  }
 ],
 "metadata": {
  "kernelspec": {
   "display_name": "Python 3",
   "language": "python",
   "name": "python3"
  },
  "language_info": {
   "codemirror_mode": {
    "name": "ipython",
    "version": 3
   },
   "file_extension": ".py",
   "mimetype": "text/x-python",
   "name": "python",
   "nbconvert_exporter": "python",
   "pygments_lexer": "ipython3",
   "version": "3.8.8"
  }
 },
 "nbformat": 4,
 "nbformat_minor": 5
}
