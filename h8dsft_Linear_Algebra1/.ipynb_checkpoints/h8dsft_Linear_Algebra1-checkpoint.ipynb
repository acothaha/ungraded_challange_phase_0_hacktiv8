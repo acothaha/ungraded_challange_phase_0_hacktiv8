{
 "cells": [
  {
   "cell_type": "markdown",
   "id": "0b1bbfc5-af08-49f6-9092-f79f421d1534",
   "metadata": {},
   "source": [
    "# Full Stack Data Science // Non-Graded Challenge 4"
   ]
  },
  {
   "cell_type": "markdown",
   "id": "f813472d-e68b-448f-8954-133d345eea79",
   "metadata": {},
   "source": [
    "## Instruction "
   ]
  },
  {
   "cell_type": "markdown",
   "id": "b9c07ff6-1cac-4249-8bf6-93babd007808",
   "metadata": {},
   "source": [
    "![problem 1](Capture1.PNG)\n",
    "\n",
    "![problem 2](Capture2.PNG)\n",
    "\n",
    "![problem 3](Capture3.PNG)"
   ]
  },
  {
   "cell_type": "markdown",
   "id": "0207f148-f5e1-4ef0-a2d4-dd50c45182ee",
   "metadata": {},
   "source": [
    "## Import Libraries \n",
    "\n",
    "These are libraries that are used in this assignment:\n",
    "\n",
    "- numpy : Used to create vector and do vector calculation\n",
    "\n",
    "- matplotlib : used to create visualization of the data"
   ]
  },
  {
   "cell_type": "code",
   "execution_count": 19,
   "id": "caa3d4fe-e6ac-4f04-835d-0a7a92b67521",
   "metadata": {},
   "outputs": [],
   "source": [
    "import numpy as np\n",
    "import matplotlib.pyplot as plt"
   ]
  },
  {
   "cell_type": "markdown",
   "id": "ed83c0f1-0497-4113-826f-dd915809279a",
   "metadata": {},
   "source": [
    "## Answer "
   ]
  },
  {
   "cell_type": "markdown",
   "id": "6bdf72c3-cce8-4b13-aed0-fab541229cc1",
   "metadata": {},
   "source": [
    "####  Problem 1"
   ]
  },
  {
   "cell_type": "code",
   "execution_count": 20,
   "id": "08891dee-b48d-4429-b45f-72f6a32fafb2",
   "metadata": {},
   "outputs": [
    {
     "data": {
      "text/plain": [
       "array([17, 22, 19])"
      ]
     },
     "execution_count": 20,
     "metadata": {},
     "output_type": "execute_result"
    }
   ],
   "source": [
    "A = np.array([17, 22, 19])\n",
    "A"
   ]
  },
  {
   "cell_type": "markdown",
   "id": "41397291-aaa1-44a7-b561-497b9e8d68f7",
   "metadata": {},
   "source": [
    "####  Problem 2"
   ]
  },
  {
   "cell_type": "code",
   "execution_count": 21,
   "id": "7f02bca9-b7ff-4908-a265-60fda75f52a5",
   "metadata": {},
   "outputs": [
    {
     "name": "stdout",
     "output_type": "stream",
     "text": [
      "[17 22 19] [10 20 21] [ 5 12  9]\n"
     ]
    }
   ],
   "source": [
    "A = np.array([17, 22, 19])\n",
    "B = np.array([10, 20, 21])\n",
    "C = np.array([5, 12, 9])\n",
    "print(A, B, C)"
   ]
  },
  {
   "cell_type": "code",
   "execution_count": 22,
   "id": "bf8578b8-b181-440b-b759-e8f7da84e36d",
   "metadata": {},
   "outputs": [
    {
     "data": {
      "text/plain": [
       "array([27, 42, 40])"
      ]
     },
     "execution_count": 22,
     "metadata": {},
     "output_type": "execute_result"
    }
   ],
   "source": [
    "A + B"
   ]
  },
  {
   "cell_type": "code",
   "execution_count": 10,
   "id": "7b6dda48-dc7a-458c-ab4b-a6d0c2d598c3",
   "metadata": {},
   "outputs": [
    {
     "data": {
      "text/plain": [
       "array([ 5,  8, 12])"
      ]
     },
     "execution_count": 10,
     "metadata": {},
     "output_type": "execute_result"
    }
   ],
   "source": [
    "B - C"
   ]
  },
  {
   "cell_type": "code",
   "execution_count": 24,
   "id": "a78863e1-9935-41a0-a26e-2414a159da7d",
   "metadata": {},
   "outputs": [
    {
     "data": {
      "text/plain": [
       "520"
      ]
     },
     "execution_count": 24,
     "metadata": {},
     "output_type": "execute_result"
    }
   ],
   "source": [
    "A @ C"
   ]
  },
  {
   "cell_type": "code",
   "execution_count": 25,
   "id": "b183f139-f3fd-4e52-a77c-172e73987145",
   "metadata": {},
   "outputs": [
    {
     "data": {
      "text/plain": [
       "array([ 85, 264, 171])"
      ]
     },
     "execution_count": 25,
     "metadata": {},
     "output_type": "execute_result"
    }
   ],
   "source": [
    "A * C"
   ]
  },
  {
   "cell_type": "code",
   "execution_count": 26,
   "id": "6a9c7d11-c244-4ad4-aeb2-1dbfbf706727",
   "metadata": {},
   "outputs": [
    {
     "data": {
      "text/plain": [
       "33.67491648096547"
      ]
     },
     "execution_count": 26,
     "metadata": {},
     "output_type": "execute_result"
    }
   ],
   "source": [
    "np.linalg.norm(A)"
   ]
  },
  {
   "cell_type": "code",
   "execution_count": 27,
   "id": "3451070c-3e9b-4e9c-afa1-d583715ec6ff",
   "metadata": {},
   "outputs": [
    {
     "data": {
      "text/plain": [
       "12.375393205391571"
      ]
     },
     "execution_count": 27,
     "metadata": {},
     "output_type": "execute_result"
    }
   ],
   "source": [
    "cos_theta = A @ B / (np.linalg.norm(A) * np.linalg.norm(B))\n",
    "rad = np.arccos(cos_theta)\n",
    "degree = np.degrees(rad)\n",
    "degree"
   ]
  },
  {
   "cell_type": "markdown",
   "id": "24673321-7f46-4d1a-ba46-0b3c74c2aeb1",
   "metadata": {},
   "source": [
    "####  Problem 3"
   ]
  },
  {
   "cell_type": "code",
   "execution_count": 46,
   "id": "489206d0-824a-4b5f-bf1f-6e2e9f21a7c5",
   "metadata": {},
   "outputs": [],
   "source": [
    "def plot_vector2d(vector2d, origin=[0, 0], **options):\n",
    "    return plt.arrow(origin[0], origin[1], vector2d[0], vector2d[1],\n",
    "              head_width=0.2, head_length=0.3, length_includes_head=True,\n",
    "              **options)"
   ]
  },
  {
   "cell_type": "code",
   "execution_count": 47,
   "id": "34d15938-e23b-4027-94cf-4e1fd0c0dbd5",
   "metadata": {},
   "outputs": [],
   "source": [
    "def plot_vector(vector, origin=[0, 0], **option):\n",
    "    return plt.arrow(origin[0], origin[1], vector[0], vector[1], head_width=0.1, head_length=0.1, **option)"
   ]
  },
  {
   "cell_type": "code",
   "execution_count": 48,
   "id": "dc99edd7-860a-4634-a4ee-d55a73c7f0c5",
   "metadata": {},
   "outputs": [],
   "source": [
    "u = np.array([2, 5])\n",
    "v = np.array([3, 1])"
   ]
  },
  {
   "cell_type": "code",
   "execution_count": 53,
   "id": "41f13f2e-c1b7-4314-af3d-06bc4ac0b3e8",
   "metadata": {},
   "outputs": [
    {
     "data": {
      "image/png": "[encoded data removed]",
      "text/plain": [
       "<Figure size 432x288 with 1 Axes>"
      ]
     },
     "metadata": {
      "needs_background": "light"
     },
     "output_type": "display_data"
    }
   ],
   "source": [
    "plot_vector(u, color='r');\n",
    "plot_vector(v, color='g');\n",
    "\n",
    "plt.axis([0, 7, 0, 7])\n",
    "plt.grid()\n",
    "plt.show()"
   ]
  }
 ],
 "metadata": {
  "kernelspec": {
   "display_name": "Python 3",
   "language": "python",
   "name": "python3"
  },
  "language_info": {
   "codemirror_mode": {
    "name": "ipython",
    "version": 3
   },
   "file_extension": ".py",
   "mimetype": "text/x-python",
   "name": "python",
   "nbconvert_exporter": "python",
   "pygments_lexer": "ipython3",
   "version": "3.8.8"
  }
 },
 "nbformat": 4,
 "nbformat_minor": 5
}
