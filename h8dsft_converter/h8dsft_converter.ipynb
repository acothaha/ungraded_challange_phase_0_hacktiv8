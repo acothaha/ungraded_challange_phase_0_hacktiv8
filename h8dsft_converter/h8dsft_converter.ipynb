{
 "cells": [
  {
   "cell_type": "markdown",
   "id": "47220351-c769-4e93-a4c8-ddce373f998e",
   "metadata": {},
   "source": [
    "# Full Stack Data Science // Non-Graded Challenge 3"
   ]
  },
  {
   "cell_type": "markdown",
   "id": "a571fe51-1853-4d2e-af25-29f30bba882c",
   "metadata": {},
   "source": [
    "## Instruction "
   ]
  },
  {
   "cell_type": "markdown",
   "id": "16619148-39e8-4a16-bc51-bc637822c37a",
   "metadata": {},
   "source": [
    "- Buatlah sebuah function yang dapat mengkonversi\n",
    "suhu dari kelvin ke celcius, dan celcius ke kelvin.\n",
    "- Buatlah sebuah function yang dapat mengkonversi\n",
    "suhu ke fahrenheit. Tambahkan parameter untuk\n",
    "memastikan bahwa argumen yang dimasukan adalah\n",
    "celcius atau kelvin. Panggil function yang pertama jika\n",
    "diperlukan.\n",
    "- Buatlah sebuah function yang dapat mengkonversi\n",
    "suhu dari fahrenheit. Berikan argumen untuk\n",
    "memastikan bahwa outputnya dalah celcius atau kelvin.\n",
    "- Berikan dokumentasi pada setiap baris kode yang\n",
    "kalian tulis"
   ]
  },
  {
   "cell_type": "markdown",
   "id": "332e8697-37e8-4a05-9685-e740fda393f9",
   "metadata": {},
   "source": [
    "### Case 1 : Converting Kelvin to Celsius and vice versa "
   ]
  },
  {
   "cell_type": "code",
   "execution_count": 45,
   "id": "2b64a6c0-b182-4432-9449-44fdbeb7a0a1",
   "metadata": {},
   "outputs": [
    {
     "name": "stdin",
     "output_type": "stream",
     "text": [
      "\n",
      "                    1: Celsius to Kelvin\n",
      "                    2: Kelvin to Celsius\n",
      "                    Choose Conversion: 2\n"
     ]
    },
    {
     "data": {
      "text/plain": [
       "-173.14999999999998"
      ]
     },
     "execution_count": 45,
     "metadata": {},
     "output_type": "execute_result"
    }
   ],
   "source": [
    "# the formula of converting Celsius to Kelvin\n",
    "# 0°C = 0 + 273.15K\n",
    "\n",
    "# the formula of converting Kelvin to Celsius\n",
    "# 0K − 273.15 = -273.1°C\n",
    "\n",
    "# creating a function to choose between converting Celsius to Kelvin or converting Kelvin to Celsius\n",
    "def convers1():\n",
    "    # using input function to allow user to input their choice\n",
    "    degree = input('''\n",
    "                    1: Celsius to Kelvin\n",
    "                    2: Kelvin to Celsius\n",
    "                    Choose Conversion:''')\n",
    "    # returning the choice of the user\n",
    "    return degree\n",
    "\n",
    "# creating function to convert Celsius to Kelvin and vice versa\n",
    "def cel_or_kel(temp):\n",
    "    # assigning user's choice by calling convers function to a variable called choice\n",
    "    choice = convers1()\n",
    "    # if the choice is '1' then converting the temperature to Kelvin\n",
    "    if choice == '1':\n",
    "        return temp + 273.15\n",
    "    # if the choice is '2' then converting the temperature to Kelvin\n",
    "    elif choice == '2':\n",
    "        return temp - 273.15\n",
    "    # if the user inputted invalid value (not 1 or 2) then they will be asked to input another value\n",
    "    else:\n",
    "        print('wrong input!!!! Try again')\n",
    "        return(cel_or_kel(temp))\n",
    "    \n",
    "cel_or_kel(100)                   "
   ]
  },
  {
   "cell_type": "markdown",
   "id": "c6697a13-e231-41ac-a378-a36ada87e467",
   "metadata": {},
   "source": [
    "#### Case 2 : Converting Celsius or Kelvin to Farenheit"
   ]
  },
  {
   "cell_type": "code",
   "execution_count": 44,
   "id": "770e91e3-9230-4350-858e-8902496ea558",
   "metadata": {},
   "outputs": [
    {
     "name": "stdin",
     "output_type": "stream",
     "text": [
      "\n",
      "                    1: Celsius to Farenheit\n",
      "                    2: Kelvin to Farenheit\n",
      "                    Choose Conversion: 3\n"
     ]
    },
    {
     "name": "stdout",
     "output_type": "stream",
     "text": [
      "wrong input!!!! Try again\n"
     ]
    },
    {
     "name": "stdin",
     "output_type": "stream",
     "text": [
      "\n",
      "                    1: Celsius to Farenheit\n",
      "                    2: Kelvin to Farenheit\n",
      "                    Choose Conversion: 1\n"
     ]
    },
    {
     "data": {
      "text/plain": [
       "212.0"
      ]
     },
     "execution_count": 44,
     "metadata": {},
     "output_type": "execute_result"
    }
   ],
   "source": [
    "# the formula of converting Celsius to Farenheit\n",
    "# (0°C × 9/5) + 32 = 32°F\n",
    "\n",
    "# the formula of converting Kelvin to Farenheit\n",
    "# (0K − 273.15) × 9/5 + 32 = -459.7°F\n",
    "\n",
    "def convers2():\n",
    "    # using input function to allow user to input their choice\n",
    "    degree = input('''\n",
    "                    1: Celsius to Farenheit\n",
    "                    2: Kelvin to Farenheit\n",
    "                    Choose Conversion:''')\n",
    "    # returning the choice of the user\n",
    "    return degree\n",
    "\n",
    "# creating function to convert Celsius or Kelvin to Farenheit\n",
    "def to_farenheit(temp):\n",
    "    # Assigning user's choice by calling convers2 function to a variable called choice\n",
    "    choice = convers2()\n",
    "    # if the choice is '1' then converting the Celsius to Farenheit\n",
    "    if choice == '1':\n",
    "        return ((temp * 9/5) + 32)\n",
    "    # if the choice is '2' then converting the Kelvin to Farenheit\n",
    "    elif choice == '2':\n",
    "        return (((temp - 273.15) * 9/5) + 32)\n",
    "    # if the user inputted invalid value (not 1 or 2) then they will be asked to input another value\n",
    "    else:\n",
    "        print('wrong input!!!! Try again')\n",
    "        return(to_farenheit(temp))\n",
    "\n",
    "to_farenheit(100)"
   ]
  },
  {
   "cell_type": "markdown",
   "id": "2c23e121-8ce0-4fbf-a8b7-f5fd9202c0dc",
   "metadata": {},
   "source": [
    "#### Case 3 : Converting Farenheit to Celsius or Kelvin"
   ]
  },
  {
   "cell_type": "code",
   "execution_count": 46,
   "id": "70dcc022-3b1c-4287-a7e5-5cd036ff9875",
   "metadata": {},
   "outputs": [
    {
     "name": "stdin",
     "output_type": "stream",
     "text": [
      "\n",
      "                    1: Farenheit to Celsius\n",
      "                    2: Farenheit to Kelvin\n",
      "                    Choose Conversion: 2\n"
     ]
    },
    {
     "data": {
      "text/plain": [
       "310.92777777777775"
      ]
     },
     "execution_count": 46,
     "metadata": {},
     "output_type": "execute_result"
    }
   ],
   "source": [
    "# the formula of converting Celsius to Farenheit\n",
    "# (0°F − 32) × 5/9 = -17.78°C\n",
    "\n",
    "# the formula of converting Celsius to Kelvin\n",
    "# (0°F − 32) × 5/9 + 273.15 = 255.372K\n",
    "\n",
    "def convers3():\n",
    "    # using input function to allow user to input their choice\n",
    "    degree = input('''\n",
    "                    1: Farenheit to Celsius\n",
    "                    2: Farenheit to Kelvin\n",
    "                    Choose Conversion:''')\n",
    "    # returning the choice of the user\n",
    "    return degree\n",
    "\n",
    "# creating function to convert Celsius or Kelvin to Farenheit\n",
    "def from_farenheit(temp):\n",
    "    # Assigning user's choice by calling convers2 function to a variable called choice\n",
    "    choice = convers3()\n",
    "    # if the choice is '1' then converting the Farenheit to Celsius\n",
    "    if choice == '1':\n",
    "        return (temp - 32) * 5 / 9\n",
    "    # if the choice is '2' then converting the Farenheit to Kelvin\n",
    "    elif choice == '2':\n",
    "        return (temp - 32) * 5/9 + 273.15\n",
    "    # if the user inputted invalid value (not 1 or 2) then they will be asked to input another value\n",
    "    else:\n",
    "        print('wrong input!!!! Try again')\n",
    "        return(to_farenheit(temp))\n",
    "\n",
    "from_farenheit(100)"
   ]
  }
 ],
 "metadata": {
  "kernelspec": {
   "display_name": "Python 3",
   "language": "python",
   "name": "python3"
  },
  "language_info": {
   "codemirror_mode": {
    "name": "ipython",
    "version": 3
   },
   "file_extension": ".py",
   "mimetype": "text/x-python",
   "name": "python",
   "nbconvert_exporter": "python",
   "pygments_lexer": "ipython3",
   "version": "3.8.8"
  }
 },
 "nbformat": 4,
 "nbformat_minor": 5
}
