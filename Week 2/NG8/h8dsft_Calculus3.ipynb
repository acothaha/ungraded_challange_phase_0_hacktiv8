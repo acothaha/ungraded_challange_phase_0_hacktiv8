{
 "cells": [
  {
   "cell_type": "markdown",
   "id": "0b1bbfc5-af08-49f6-9092-f79f421d1534",
   "metadata": {},
   "source": [
    "# Full Stack Data Science // Non-Graded Challenge 8"
   ]
  },
  {
   "cell_type": "markdown",
   "id": "f813472d-e68b-448f-8954-133d345eea79",
   "metadata": {},
   "source": [
    "## Instruction "
   ]
  },
  {
   "cell_type": "markdown",
   "id": "b9c07ff6-1cac-4249-8bf6-93babd007808",
   "metadata": {},
   "source": [
    "![problem 1](Capture1.PNG)"
   ]
  },
  {
   "cell_type": "markdown",
   "id": "0207f148-f5e1-4ef0-a2d4-dd50c45182ee",
   "metadata": {},
   "source": [
    "## Import Libraries \n",
    "\n",
    "These are libraries that are used in this assignment:\n",
    "\n",
    "- numpy : Used to do numeric derivative\n",
    "\n",
    "- sympy : used to do symbolic derivative\n"
   ]
  },
  {
   "cell_type": "code",
   "execution_count": 3,
   "id": "caa3d4fe-e6ac-4f04-835d-0a7a92b67521",
   "metadata": {},
   "outputs": [],
   "source": [
    "import numpy as np\n",
    "import sympy as sy"
   ]
  },
  {
   "cell_type": "markdown",
   "id": "ed83c0f1-0497-4113-826f-dd915809279a",
   "metadata": {},
   "source": [
    "## Answer "
   ]
  },
  {
   "cell_type": "markdown",
   "id": "6bdf72c3-cce8-4b13-aed0-fab541229cc1",
   "metadata": {},
   "source": [
    "####  Problem 1"
   ]
  },
  {
   "cell_type": "markdown",
   "id": "42ca677e-315d-4fe0-b502-ce1cf3de2b22",
   "metadata": {},
   "source": [
    "####  Symbolic Derivative"
   ]
  },
  {
   "cell_type": "code",
   "execution_count": 5,
   "id": "418f66bc-2b13-40dc-bba0-420837abe202",
   "metadata": {},
   "outputs": [
    {
     "data": {
      "text/latex": [
       "$\\displaystyle 3 x + 4 y - 5$"
      ],
      "text/plain": [
       "3*x + 4*y - 5"
      ]
     },
     "execution_count": 5,
     "metadata": {},
     "output_type": "execute_result"
    }
   ],
   "source": [
    "x, y = sy.symbols('x y')\n",
    "f = 3*x + 4*y - 5\n",
    "f"
   ]
  },
  {
   "cell_type": "markdown",
   "id": "2bc59653-69f4-40ab-b6bb-819868a31f79",
   "metadata": {},
   "source": [
    "derivate towards x"
   ]
  },
  {
   "cell_type": "code",
   "execution_count": 6,
   "id": "45584310-5bed-4b5f-8d67-1792b77e010d",
   "metadata": {},
   "outputs": [
    {
     "data": {
      "text/latex": [
       "$\\displaystyle 3$"
      ],
      "text/plain": [
       "3"
      ]
     },
     "execution_count": 6,
     "metadata": {},
     "output_type": "execute_result"
    }
   ],
   "source": [
    "sy.diff(f, x)"
   ]
  },
  {
   "cell_type": "markdown",
   "id": "bebfde84-abfa-4dcc-a357-2165cf07d0a4",
   "metadata": {},
   "source": [
    "derivate towards y"
   ]
  },
  {
   "cell_type": "code",
   "execution_count": 7,
   "id": "b6e86bfc-6729-4413-9d97-6bdd0c9afbe8",
   "metadata": {},
   "outputs": [
    {
     "data": {
      "text/latex": [
       "$\\displaystyle 4$"
      ],
      "text/plain": [
       "4"
      ]
     },
     "execution_count": 7,
     "metadata": {},
     "output_type": "execute_result"
    }
   ],
   "source": [
    "sy.diff(f, y)"
   ]
  },
  {
   "cell_type": "markdown",
   "id": "a2497b35-3e97-474c-bb18-91e51cb26fe2",
   "metadata": {},
   "source": [
    "####  Numeric Derivative"
   ]
  },
  {
   "cell_type": "code",
   "execution_count": 9,
   "id": "361dc9f7-efc0-4fd8-8e99-63cd04aadb65",
   "metadata": {},
   "outputs": [],
   "source": [
    "x = np.linspace(0, 10)\n",
    "y = np.linspace(0, 10)\n",
    "\n",
    "def f(x, y):\n",
    "    return 3*x + 4*y - 5\n",
    "\n",
    "z = np.array([[f(i, j) for i in x] for j in y])"
   ]
  },
  {
   "cell_type": "code",
   "execution_count": 10,
   "id": "25349d48-b25c-44f5-aa21-7d4282a517b1",
   "metadata": {},
   "outputs": [],
   "source": [
    "dx, dy = np.gradient(z)"
   ]
  },
  {
   "cell_type": "code",
   "execution_count": 11,
   "id": "2c5b3dc1-7612-4a52-ba8b-dce6a2d027fe",
   "metadata": {},
   "outputs": [
    {
     "data": {
      "text/plain": [
       "array([[0.81632653, 0.81632653, 0.81632653, ..., 0.81632653, 0.81632653,\n",
       "        0.81632653],\n",
       "       [0.81632653, 0.81632653, 0.81632653, ..., 0.81632653, 0.81632653,\n",
       "        0.81632653],\n",
       "       [0.81632653, 0.81632653, 0.81632653, ..., 0.81632653, 0.81632653,\n",
       "        0.81632653],\n",
       "       ...,\n",
       "       [0.81632653, 0.81632653, 0.81632653, ..., 0.81632653, 0.81632653,\n",
       "        0.81632653],\n",
       "       [0.81632653, 0.81632653, 0.81632653, ..., 0.81632653, 0.81632653,\n",
       "        0.81632653],\n",
       "       [0.81632653, 0.81632653, 0.81632653, ..., 0.81632653, 0.81632653,\n",
       "        0.81632653]])"
      ]
     },
     "execution_count": 11,
     "metadata": {},
     "output_type": "execute_result"
    }
   ],
   "source": [
    "dx"
   ]
  },
  {
   "cell_type": "code",
   "execution_count": 12,
   "id": "4d389b8e-0318-4ff4-a1b1-add16aebef53",
   "metadata": {},
   "outputs": [
    {
     "data": {
      "text/plain": [
       "array([[0.6122449, 0.6122449, 0.6122449, ..., 0.6122449, 0.6122449,\n",
       "        0.6122449],\n",
       "       [0.6122449, 0.6122449, 0.6122449, ..., 0.6122449, 0.6122449,\n",
       "        0.6122449],\n",
       "       [0.6122449, 0.6122449, 0.6122449, ..., 0.6122449, 0.6122449,\n",
       "        0.6122449],\n",
       "       ...,\n",
       "       [0.6122449, 0.6122449, 0.6122449, ..., 0.6122449, 0.6122449,\n",
       "        0.6122449],\n",
       "       [0.6122449, 0.6122449, 0.6122449, ..., 0.6122449, 0.6122449,\n",
       "        0.6122449],\n",
       "       [0.6122449, 0.6122449, 0.6122449, ..., 0.6122449, 0.6122449,\n",
       "        0.6122449]])"
      ]
     },
     "execution_count": 12,
     "metadata": {},
     "output_type": "execute_result"
    }
   ],
   "source": [
    "dy"
   ]
  }
 ],
 "metadata": {
  "kernelspec": {
   "display_name": "Python 3",
   "language": "python",
   "name": "python3"
  },
  "language_info": {
   "codemirror_mode": {
    "name": "ipython",
    "version": 3
   },
   "file_extension": ".py",
   "mimetype": "text/x-python",
   "name": "python",
   "nbconvert_exporter": "python",
   "pygments_lexer": "ipython3",
   "version": "3.8.8"
  }
 },
 "nbformat": 4,
 "nbformat_minor": 5
}
