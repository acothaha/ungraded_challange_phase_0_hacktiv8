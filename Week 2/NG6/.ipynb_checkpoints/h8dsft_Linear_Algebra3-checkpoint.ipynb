{
 "cells": [
  {
   "cell_type": "markdown",
   "id": "0b1bbfc5-af08-49f6-9092-f79f421d1534",
   "metadata": {},
   "source": [
    "# Full Stack Data Science // Non-Graded Challenge 6"
   ]
  },
  {
   "cell_type": "markdown",
   "id": "f813472d-e68b-448f-8954-133d345eea79",
   "metadata": {},
   "source": [
    "## Instruction "
   ]
  },
  {
   "cell_type": "markdown",
   "id": "b9c07ff6-1cac-4249-8bf6-93babd007808",
   "metadata": {},
   "source": [
    "![problem 1](Capture1.PNG)"
   ]
  },
  {
   "cell_type": "markdown",
   "id": "0207f148-f5e1-4ef0-a2d4-dd50c45182ee",
   "metadata": {},
   "source": [
    "## Import Libraries \n",
    "\n",
    "This is the library that is used in this assignment:\n",
    "\n",
    "- numpy : Used to create vector and do vector calculation"
   ]
  },
  {
   "cell_type": "code",
   "execution_count": 2,
   "id": "caa3d4fe-e6ac-4f04-835d-0a7a92b67521",
   "metadata": {},
   "outputs": [],
   "source": [
    "import numpy as np\n",
    "import matplotlib.pyplot as plt"
   ]
  },
  {
   "cell_type": "markdown",
   "id": "ed83c0f1-0497-4113-826f-dd915809279a",
   "metadata": {},
   "source": [
    "## Answer "
   ]
  },
  {
   "cell_type": "markdown",
   "id": "6bdf72c3-cce8-4b13-aed0-fab541229cc1",
   "metadata": {},
   "source": [
    "####  Problem 1"
   ]
  },
  {
   "cell_type": "code",
   "execution_count": 16,
   "id": "3a23e1a5-4780-4982-acef-1ff67d9ee0fe",
   "metadata": {},
   "outputs": [],
   "source": [
    "A = np.array([[1, -1],\n",
    "              [6, -4]])"
   ]
  },
  {
   "cell_type": "code",
   "execution_count": 17,
   "id": "e179f95d-f24d-4f12-8a65-d24f827118c6",
   "metadata": {},
   "outputs": [],
   "source": [
    "x = np.array([1, 3])"
   ]
  },
  {
   "cell_type": "code",
   "execution_count": 31,
   "id": "517aed2f-bf5f-4d98-9cb9-c2d9b47ba643",
   "metadata": {},
   "outputs": [],
   "source": [
    "eigval, eigvec = np.linalg.eig(A)"
   ]
  },
  {
   "cell_type": "code",
   "execution_count": 32,
   "id": "9349b817-7bdd-4cdc-af5b-625562a33889",
   "metadata": {},
   "outputs": [
    {
     "data": {
      "text/plain": [
       "array([-1., -2.])"
      ]
     },
     "execution_count": 32,
     "metadata": {},
     "output_type": "execute_result"
    }
   ],
   "source": [
    "eigval"
   ]
  },
  {
   "cell_type": "code",
   "execution_count": 20,
   "id": "010b0b89-fa60-40b0-9ac2-778242f9461f",
   "metadata": {},
   "outputs": [
    {
     "data": {
      "text/plain": [
       "array([-2, -6])"
      ]
     },
     "execution_count": 20,
     "metadata": {},
     "output_type": "execute_result"
    }
   ],
   "source": [
    "A @ x"
   ]
  },
  {
   "cell_type": "code",
   "execution_count": 46,
   "id": "6bcbb113-151e-463d-b238-6b2f69e842bb",
   "metadata": {},
   "outputs": [
    {
     "data": {
      "text/plain": [
       "array([-2, -6])"
      ]
     },
     "execution_count": 46,
     "metadata": {},
     "output_type": "execute_result"
    }
   ],
   "source": [
    "-2 * x"
   ]
  },
  {
   "cell_type": "markdown",
   "id": "9b96d34d-9ed2-4ddf-98be-8ae88f1027fa",
   "metadata": {},
   "source": [
    "karena A dikalikan dengan vector (1, 3) sama dengan skalar dengan vector (1, 3) maka vector (1, 3) adalah eigenvector dari matrix diatas"
   ]
  }
 ],
 "metadata": {
  "kernelspec": {
   "display_name": "Python 3",
   "language": "python",
   "name": "python3"
  },
  "language_info": {
   "codemirror_mode": {
    "name": "ipython",
    "version": 3
   },
   "file_extension": ".py",
   "mimetype": "text/x-python",
   "name": "python",
   "nbconvert_exporter": "python",
   "pygments_lexer": "ipython3",
   "version": "3.8.8"
  }
 },
 "nbformat": 4,
 "nbformat_minor": 5
}
