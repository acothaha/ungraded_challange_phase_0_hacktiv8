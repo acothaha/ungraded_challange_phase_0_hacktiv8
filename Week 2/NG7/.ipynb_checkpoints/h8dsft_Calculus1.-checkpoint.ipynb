{
 "cells": [
  {
   "cell_type": "markdown",
   "id": "0b1bbfc5-af08-49f6-9092-f79f421d1534",
   "metadata": {},
   "source": [
    "# Full Stack Data Science // Non-Graded Challenge 7"
   ]
  },
  {
   "cell_type": "markdown",
   "id": "f813472d-e68b-448f-8954-133d345eea79",
   "metadata": {},
   "source": [
    "## Instruction "
   ]
  },
  {
   "cell_type": "markdown",
   "id": "b9c07ff6-1cac-4249-8bf6-93babd007808",
   "metadata": {},
   "source": [
    "![problem 1](Capture1.PNG)"
   ]
  },
  {
   "cell_type": "markdown",
   "id": "0207f148-f5e1-4ef0-a2d4-dd50c45182ee",
   "metadata": {},
   "source": [
    "## Import Libraries \n",
    "\n",
    "These are libraries that are used in this assignment:\n",
    "\n",
    "- numpy : Used to do numeric derivative\n",
    "\n",
    "- sympy : used to do symbolic derivative\n",
    "\n"
   ]
  },
  {
   "cell_type": "code",
   "execution_count": 1,
   "id": "caa3d4fe-e6ac-4f04-835d-0a7a92b67521",
   "metadata": {},
   "outputs": [],
   "source": [
    "import numpy as np\n",
    "import sympy as sy"
   ]
  },
  {
   "cell_type": "markdown",
   "id": "ed83c0f1-0497-4113-826f-dd915809279a",
   "metadata": {},
   "source": [
    "## Answer "
   ]
  },
  {
   "cell_type": "markdown",
   "id": "6bdf72c3-cce8-4b13-aed0-fab541229cc1",
   "metadata": {},
   "source": [
    "####  Problem 1"
   ]
  },
  {
   "cell_type": "markdown",
   "id": "146c17a9-7707-48d6-8766-e8884a5a4fcb",
   "metadata": {},
   "source": [
    "#### Symbolic Derivative\n"
   ]
  },
  {
   "cell_type": "code",
   "execution_count": 8,
   "id": "dd8e1149-2a14-48e0-aace-5f9c4dd6c905",
   "metadata": {},
   "outputs": [],
   "source": [
    "x = sy.Symbol('x', real=True)"
   ]
  },
  {
   "cell_type": "code",
   "execution_count": 10,
   "id": "61dda910-9cbf-4648-801c-68b124b9dfe2",
   "metadata": {},
   "outputs": [
    {
     "data": {
      "text/latex": [
       "$\\displaystyle x^{2} + 2 x + 1$"
      ],
      "text/plain": [
       "x**2 + 2*x + 1"
      ]
     },
     "execution_count": 10,
     "metadata": {},
     "output_type": "execute_result"
    }
   ],
   "source": [
    "y1 = x**2 + 2*x + 1\n",
    "y1"
   ]
  },
  {
   "cell_type": "code",
   "execution_count": 7,
   "id": "c93bb986-1676-47e7-80e7-a811e4af8bfb",
   "metadata": {},
   "outputs": [
    {
     "data": {
      "text/latex": [
       "$\\displaystyle 2 x + 2$"
      ],
      "text/plain": [
       "2*x + 2"
      ]
     },
     "execution_count": 7,
     "metadata": {},
     "output_type": "execute_result"
    }
   ],
   "source": [
    "y1.diff(x)"
   ]
  },
  {
   "cell_type": "markdown",
   "id": "c2afb0b5-ad79-4d1b-87c5-d87ecc1b7b51",
   "metadata": {},
   "source": [
    "this is the derivative of the first function"
   ]
  },
  {
   "cell_type": "code",
   "execution_count": 6,
   "id": "b5ddd5bc-4ce1-48bd-a970-c54e1c56d274",
   "metadata": {},
   "outputs": [
    {
     "data": {
      "text/latex": [
       "$\\displaystyle 4 x^{3} - 3 x^{2} + 2 x - 1$"
      ],
      "text/plain": [
       "4*x**3 - 3*x**2 + 2*x - 1"
      ]
     },
     "execution_count": 6,
     "metadata": {},
     "output_type": "execute_result"
    }
   ],
   "source": [
    "y2 = 4*x**3 - 3*x**2 + 2*x - 1\n",
    "y2"
   ]
  },
  {
   "cell_type": "code",
   "execution_count": 12,
   "id": "7883fdba-755a-405a-8445-7b98ba9cbe68",
   "metadata": {},
   "outputs": [
    {
     "data": {
      "text/latex": [
       "$\\displaystyle 12 x^{2} - 6 x + 2$"
      ],
      "text/plain": [
       "12*x**2 - 6*x + 2"
      ]
     },
     "execution_count": 12,
     "metadata": {},
     "output_type": "execute_result"
    }
   ],
   "source": [
    "y2.diff(x)"
   ]
  },
  {
   "cell_type": "markdown",
   "id": "85b7f5c9-9f8f-4509-bd6e-617d7d1c5995",
   "metadata": {},
   "source": [
    "this is the derivative of the second function"
   ]
  },
  {
   "cell_type": "markdown",
   "id": "88a47ce4-195d-449e-8f68-ffd49faba0e2",
   "metadata": {},
   "source": [
    "#### Numeric Derivative\n"
   ]
  },
  {
   "cell_type": "code",
   "execution_count": 13,
   "id": "bc7b8d23-2f3d-4645-aed9-2cc33b638862",
   "metadata": {},
   "outputs": [],
   "source": [
    "x = np.linspace(0, 20, 100)\n",
    "y1 = x**2 + 2*x + 1\n",
    "y2 = 4*x**3 - 3*x**2 + 2*x - 1"
   ]
  },
  {
   "cell_type": "code",
   "execution_count": 14,
   "id": "a3766471-2601-4d17-97d8-9325468ef5f0",
   "metadata": {},
   "outputs": [
    {
     "data": {
      "text/plain": [
       "array([ 2.2020202 ,  2.4040404 ,  2.80808081,  3.21212121,  3.61616162,\n",
       "        4.02020202,  4.42424242,  4.82828283,  5.23232323,  5.63636364,\n",
       "        6.04040404,  6.44444444,  6.84848485,  7.25252525,  7.65656566,\n",
       "        8.06060606,  8.46464646,  8.86868687,  9.27272727,  9.67676768,\n",
       "       10.08080808, 10.48484848, 10.88888889, 11.29292929, 11.6969697 ,\n",
       "       12.1010101 , 12.50505051, 12.90909091, 13.31313131, 13.71717172,\n",
       "       14.12121212, 14.52525253, 14.92929293, 15.33333333, 15.73737374,\n",
       "       16.14141414, 16.54545455, 16.94949495, 17.35353535, 17.75757576,\n",
       "       18.16161616, 18.56565657, 18.96969697, 19.37373737, 19.77777778,\n",
       "       20.18181818, 20.58585859, 20.98989899, 21.39393939, 21.7979798 ,\n",
       "       22.2020202 , 22.60606061, 23.01010101, 23.41414141, 23.81818182,\n",
       "       24.22222222, 24.62626263, 25.03030303, 25.43434343, 25.83838384,\n",
       "       26.24242424, 26.64646465, 27.05050505, 27.45454545, 27.85858586,\n",
       "       28.26262626, 28.66666667, 29.07070707, 29.47474747, 29.87878788,\n",
       "       30.28282828, 30.68686869, 31.09090909, 31.49494949, 31.8989899 ,\n",
       "       32.3030303 , 32.70707071, 33.11111111, 33.51515152, 33.91919192,\n",
       "       34.32323232, 34.72727273, 35.13131313, 35.53535354, 35.93939394,\n",
       "       36.34343434, 36.74747475, 37.15151515, 37.55555556, 37.95959596,\n",
       "       38.36363636, 38.76767677, 39.17171717, 39.57575758, 39.97979798,\n",
       "       40.38383838, 40.78787879, 41.19191919, 41.5959596 , 41.7979798 ])"
      ]
     },
     "execution_count": 14,
     "metadata": {},
     "output_type": "execute_result"
    }
   ],
   "source": [
    "df1 = np.gradient(y1,x)\n",
    "df1"
   ]
  },
  {
   "cell_type": "code",
   "execution_count": 15,
   "id": "ba3ddaab-591f-4183-896b-cb5cef9c7c2a",
   "metadata": {},
   "outputs": [
    {
     "data": {
      "text/plain": [
       "array([1.55718804e+00, 1.44087338e+00, 1.69799000e+00, 2.93459851e+00,\n",
       "       5.15069891e+00, 8.34629119e+00, 1.25213754e+01, 1.76759514e+01,\n",
       "       2.38100194e+01, 3.09235792e+01, 3.90166310e+01, 4.80891746e+01,\n",
       "       5.81412101e+01, 6.91727375e+01, 8.11837568e+01, 9.41742679e+01,\n",
       "       1.08144271e+02, 1.23093766e+02, 1.39022753e+02, 1.55931232e+02,\n",
       "       1.73819202e+02, 1.92686665e+02, 2.12533619e+02, 2.33360065e+02,\n",
       "       2.55166003e+02, 2.77951434e+02, 3.01716355e+02, 3.26460769e+02,\n",
       "       3.52184675e+02, 3.78888073e+02, 4.06570962e+02, 4.35233344e+02,\n",
       "       4.64875217e+02, 4.95496582e+02, 5.27097439e+02, 5.59677788e+02,\n",
       "       5.93237629e+02, 6.27776962e+02, 6.63295786e+02, 6.99794103e+02,\n",
       "       7.37271911e+02, 7.75729211e+02, 8.15166003e+02, 8.55582288e+02,\n",
       "       8.96978063e+02, 9.39353331e+02, 9.82708091e+02, 1.02704234e+03,\n",
       "       1.07235609e+03, 1.11864932e+03, 1.16592205e+03, 1.21417427e+03,\n",
       "       1.26340598e+03, 1.31361718e+03, 1.36480788e+03, 1.41697806e+03,\n",
       "       1.47012774e+03, 1.52425691e+03, 1.57936557e+03, 1.63545373e+03,\n",
       "       1.69252138e+03, 1.75056851e+03, 1.80959514e+03, 1.86960127e+03,\n",
       "       1.93058688e+03, 1.99255198e+03, 2.05549658e+03, 2.11942067e+03,\n",
       "       2.18432425e+03, 2.25020733e+03, 2.31706989e+03, 2.38491195e+03,\n",
       "       2.45373350e+03, 2.52353454e+03, 2.59431507e+03, 2.66607509e+03,\n",
       "       2.73881461e+03, 2.81253362e+03, 2.88723212e+03, 2.96291011e+03,\n",
       "       3.03956760e+03, 3.11720457e+03, 3.19582104e+03, 3.27541700e+03,\n",
       "       3.35599245e+03, 3.43754739e+03, 3.52008183e+03, 3.60359576e+03,\n",
       "       3.68808917e+03, 3.77356209e+03, 3.86001449e+03, 3.94744638e+03,\n",
       "       4.03585777e+03, 4.12524865e+03, 4.21561902e+03, 4.30696888e+03,\n",
       "       4.39929823e+03, 4.49260708e+03, 4.58689542e+03, 4.63428446e+03])"
      ]
     },
     "execution_count": 15,
     "metadata": {},
     "output_type": "execute_result"
    }
   ],
   "source": [
    "df2 = np.gradient(y2,x)\n",
    "df2"
   ]
  }
 ],
 "metadata": {
  "kernelspec": {
   "display_name": "Python 3",
   "language": "python",
   "name": "python3"
  },
  "language_info": {
   "codemirror_mode": {
    "name": "ipython",
    "version": 3
   },
   "file_extension": ".py",
   "mimetype": "text/x-python",
   "name": "python",
   "nbconvert_exporter": "python",
   "pygments_lexer": "ipython3",
   "version": "3.8.8"
  }
 },
 "nbformat": 4,
 "nbformat_minor": 5
}
