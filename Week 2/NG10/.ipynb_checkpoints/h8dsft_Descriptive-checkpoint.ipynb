{
 "cells": [
  {
   "cell_type": "markdown",
   "id": "0b1bbfc5-af08-49f6-9092-f79f421d1534",
   "metadata": {},
   "source": [
    "# Full Stack Data Science // Non-Graded Challenge 10"
   ]
  },
  {
   "cell_type": "markdown",
   "id": "f813472d-e68b-448f-8954-133d345eea79",
   "metadata": {},
   "source": [
    "## Instruction "
   ]
  },
  {
   "cell_type": "markdown",
   "id": "b9c07ff6-1cac-4249-8bf6-93babd007808",
   "metadata": {},
   "source": [
    "1. Download this **[dataset](https://www.kaggle.com/datasets/hendratno/covid19-indonesia)**\n",
    "\n",
    "2. Find the Measure of Central Tendency from the dataset\n",
    "\n",
    "3. Find the Measure of Variance from the dataset"
   ]
  },
  {
   "cell_type": "markdown",
   "id": "0207f148-f5e1-4ef0-a2d4-dd50c45182ee",
   "metadata": {},
   "source": [
    "## Import Libraries \n",
    "\n",
    "These are libraries that are used in this assignment:\n",
    "\n",
    "- pandas : used to load and analyze the data\n",
    "\n",
    "- numpy : Used to do mathematical calculation\n",
    "\n",
    "- matplotlib : used to create visualization of the data"
   ]
  },
  {
   "cell_type": "code",
   "execution_count": 1,
   "id": "caa3d4fe-e6ac-4f04-835d-0a7a92b67521",
   "metadata": {},
   "outputs": [],
   "source": [
    "import pandas as pd\n",
    "import numpy as np\n",
    "import matplotlib.pyplot as plt"
   ]
  },
  {
   "cell_type": "markdown",
   "id": "ed83c0f1-0497-4113-826f-dd915809279a",
   "metadata": {},
   "source": [
    "## Answer "
   ]
  },
  {
   "cell_type": "markdown",
   "id": "09493824-34d1-426b-abbb-7bd693b42d76",
   "metadata": {},
   "source": [
    "####  Problem 1"
   ]
  },
  {
   "cell_type": "code",
   "execution_count": 9,
   "id": "897e571b-2b99-45bc-80ae-860dae5b9b65",
   "metadata": {},
   "outputs": [],
   "source": [
    "df = pd.read_csv('covid_19_indonesia_time_series_all.csv')"
   ]
  },
  {
   "cell_type": "code",
   "execution_count": 17,
   "id": "065ff11f-4b2b-42cf-a8f6-9023abd4f32f",
   "metadata": {},
   "outputs": [
    {
     "data": {
      "text/html": [
       "<div>\n",
       "<style scoped>\n",
       "    .dataframe tbody tr th:only-of-type {\n",
       "        vertical-align: middle;\n",
       "    }\n",
       "\n",
       "    .dataframe tbody tr th {\n",
       "        vertical-align: top;\n",
       "    }\n",
       "\n",
       "    .dataframe thead th {\n",
       "        text-align: right;\n",
       "    }\n",
       "</style>\n",
       "<table border=\"1\" class=\"dataframe\">\n",
       "  <thead>\n",
       "    <tr style=\"text-align: right;\">\n",
       "      <th></th>\n",
       "      <th>Date</th>\n",
       "      <th>Location ISO Code</th>\n",
       "      <th>Location</th>\n",
       "      <th>New Cases</th>\n",
       "      <th>New Deaths</th>\n",
       "      <th>New Recovered</th>\n",
       "      <th>New Active Cases</th>\n",
       "      <th>Total Cases</th>\n",
       "      <th>Total Deaths</th>\n",
       "      <th>Total Recovered</th>\n",
       "      <th>...</th>\n",
       "      <th>Latitude</th>\n",
       "      <th>New Cases per Million</th>\n",
       "      <th>Total Cases per Million</th>\n",
       "      <th>New Deaths per Million</th>\n",
       "      <th>Total Deaths per Million</th>\n",
       "      <th>Total Deaths per 100rb</th>\n",
       "      <th>Case Fatality Rate</th>\n",
       "      <th>Case Recovered Rate</th>\n",
       "      <th>Growth Factor of New Cases</th>\n",
       "      <th>Growth Factor of New Deaths</th>\n",
       "    </tr>\n",
       "  </thead>\n",
       "  <tbody>\n",
       "    <tr>\n",
       "      <th>0</th>\n",
       "      <td>3/1/2020</td>\n",
       "      <td>ID-JK</td>\n",
       "      <td>DKI Jakarta</td>\n",
       "      <td>2</td>\n",
       "      <td>0</td>\n",
       "      <td>0</td>\n",
       "      <td>2</td>\n",
       "      <td>39</td>\n",
       "      <td>20</td>\n",
       "      <td>41</td>\n",
       "      <td>...</td>\n",
       "      <td>-6.204699</td>\n",
       "      <td>0.18</td>\n",
       "      <td>3.60</td>\n",
       "      <td>0.0</td>\n",
       "      <td>1.84</td>\n",
       "      <td>0.18</td>\n",
       "      <td>51.28%</td>\n",
       "      <td>105.13%</td>\n",
       "      <td>NaN</td>\n",
       "      <td>NaN</td>\n",
       "    </tr>\n",
       "    <tr>\n",
       "      <th>1</th>\n",
       "      <td>3/2/2020</td>\n",
       "      <td>ID-JK</td>\n",
       "      <td>DKI Jakarta</td>\n",
       "      <td>2</td>\n",
       "      <td>0</td>\n",
       "      <td>0</td>\n",
       "      <td>2</td>\n",
       "      <td>41</td>\n",
       "      <td>20</td>\n",
       "      <td>41</td>\n",
       "      <td>...</td>\n",
       "      <td>-6.204699</td>\n",
       "      <td>0.18</td>\n",
       "      <td>3.78</td>\n",
       "      <td>0.0</td>\n",
       "      <td>1.84</td>\n",
       "      <td>0.18</td>\n",
       "      <td>48.78%</td>\n",
       "      <td>100.00%</td>\n",
       "      <td>1.0</td>\n",
       "      <td>1.0</td>\n",
       "    </tr>\n",
       "    <tr>\n",
       "      <th>2</th>\n",
       "      <td>3/2/2020</td>\n",
       "      <td>IDN</td>\n",
       "      <td>Indonesia</td>\n",
       "      <td>2</td>\n",
       "      <td>0</td>\n",
       "      <td>0</td>\n",
       "      <td>2</td>\n",
       "      <td>2</td>\n",
       "      <td>0</td>\n",
       "      <td>0</td>\n",
       "      <td>...</td>\n",
       "      <td>-0.789275</td>\n",
       "      <td>0.01</td>\n",
       "      <td>0.01</td>\n",
       "      <td>0.0</td>\n",
       "      <td>0.00</td>\n",
       "      <td>0.00</td>\n",
       "      <td>0.00%</td>\n",
       "      <td>0.00%</td>\n",
       "      <td>NaN</td>\n",
       "      <td>NaN</td>\n",
       "    </tr>\n",
       "  </tbody>\n",
       "</table>\n",
       "<p>3 rows × 38 columns</p>\n",
       "</div>"
      ],
      "text/plain": [
       "       Date Location ISO Code     Location  New Cases  New Deaths  \\\n",
       "0  3/1/2020             ID-JK  DKI Jakarta          2           0   \n",
       "1  3/2/2020             ID-JK  DKI Jakarta          2           0   \n",
       "2  3/2/2020               IDN    Indonesia          2           0   \n",
       "\n",
       "   New Recovered  New Active Cases  Total Cases  Total Deaths  \\\n",
       "0              0                 2           39            20   \n",
       "1              0                 2           41            20   \n",
       "2              0                 2            2             0   \n",
       "\n",
       "   Total Recovered  ...  Latitude New Cases per Million  \\\n",
       "0               41  ... -6.204699                  0.18   \n",
       "1               41  ... -6.204699                  0.18   \n",
       "2                0  ... -0.789275                  0.01   \n",
       "\n",
       "   Total Cases per Million New Deaths per Million Total Deaths per Million  \\\n",
       "0                     3.60                    0.0                     1.84   \n",
       "1                     3.78                    0.0                     1.84   \n",
       "2                     0.01                    0.0                     0.00   \n",
       "\n",
       "  Total Deaths per 100rb Case Fatality Rate Case Recovered Rate  \\\n",
       "0                   0.18             51.28%             105.13%   \n",
       "1                   0.18             48.78%             100.00%   \n",
       "2                   0.00              0.00%               0.00%   \n",
       "\n",
       "  Growth Factor of New Cases  Growth Factor of New Deaths  \n",
       "0                        NaN                          NaN  \n",
       "1                        1.0                          1.0  \n",
       "2                        NaN                          NaN  \n",
       "\n",
       "[3 rows x 38 columns]"
      ]
     },
     "execution_count": 17,
     "metadata": {},
     "output_type": "execute_result"
    }
   ],
   "source": [
    "df.head(3)"
   ]
  },
  {
   "cell_type": "code",
   "execution_count": 12,
   "id": "8688d944-30e2-42f8-8b3e-8a85c3343bb6",
   "metadata": {},
   "outputs": [
    {
     "data": {
      "text/html": [
       "<div>\n",
       "<style scoped>\n",
       "    .dataframe tbody tr th:only-of-type {\n",
       "        vertical-align: middle;\n",
       "    }\n",
       "\n",
       "    .dataframe tbody tr th {\n",
       "        vertical-align: top;\n",
       "    }\n",
       "\n",
       "    .dataframe thead th {\n",
       "        text-align: right;\n",
       "    }\n",
       "</style>\n",
       "<table border=\"1\" class=\"dataframe\">\n",
       "  <thead>\n",
       "    <tr style=\"text-align: right;\">\n",
       "      <th></th>\n",
       "      <th>Date</th>\n",
       "      <th>Location ISO Code</th>\n",
       "      <th>Location</th>\n",
       "      <th>New Cases</th>\n",
       "      <th>New Deaths</th>\n",
       "      <th>New Recovered</th>\n",
       "      <th>New Active Cases</th>\n",
       "      <th>Total Cases</th>\n",
       "      <th>Total Deaths</th>\n",
       "      <th>Total Recovered</th>\n",
       "      <th>...</th>\n",
       "      <th>Latitude</th>\n",
       "      <th>New Cases per Million</th>\n",
       "      <th>Total Cases per Million</th>\n",
       "      <th>New Deaths per Million</th>\n",
       "      <th>Total Deaths per Million</th>\n",
       "      <th>Total Deaths per 100rb</th>\n",
       "      <th>Case Fatality Rate</th>\n",
       "      <th>Case Recovered Rate</th>\n",
       "      <th>Growth Factor of New Cases</th>\n",
       "      <th>Growth Factor of New Deaths</th>\n",
       "    </tr>\n",
       "  </thead>\n",
       "  <tbody>\n",
       "    <tr>\n",
       "      <th>21756</th>\n",
       "      <td>12/2/2021</td>\n",
       "      <td>ID-SS</td>\n",
       "      <td>Sumatera Selatan</td>\n",
       "      <td>4</td>\n",
       "      <td>0</td>\n",
       "      <td>0</td>\n",
       "      <td>4</td>\n",
       "      <td>59937</td>\n",
       "      <td>3071</td>\n",
       "      <td>56830</td>\n",
       "      <td>...</td>\n",
       "      <td>-3.216212</td>\n",
       "      <td>0.49</td>\n",
       "      <td>7293.78</td>\n",
       "      <td>0.00</td>\n",
       "      <td>373.71</td>\n",
       "      <td>37.37</td>\n",
       "      <td>5.12%</td>\n",
       "      <td>94.82%</td>\n",
       "      <td>4.00</td>\n",
       "      <td>1.0</td>\n",
       "    </tr>\n",
       "    <tr>\n",
       "      <th>21757</th>\n",
       "      <td>12/2/2021</td>\n",
       "      <td>ID-SU</td>\n",
       "      <td>Sumatera Utara</td>\n",
       "      <td>4</td>\n",
       "      <td>0</td>\n",
       "      <td>1</td>\n",
       "      <td>3</td>\n",
       "      <td>106045</td>\n",
       "      <td>2889</td>\n",
       "      <td>103061</td>\n",
       "      <td>...</td>\n",
       "      <td>2.191894</td>\n",
       "      <td>0.27</td>\n",
       "      <td>7129.13</td>\n",
       "      <td>0.00</td>\n",
       "      <td>194.22</td>\n",
       "      <td>19.42</td>\n",
       "      <td>2.72%</td>\n",
       "      <td>97.19%</td>\n",
       "      <td>1.00</td>\n",
       "      <td>1.0</td>\n",
       "    </tr>\n",
       "    <tr>\n",
       "      <th>21758</th>\n",
       "      <td>12/3/2021</td>\n",
       "      <td>IDN</td>\n",
       "      <td>Indonesia</td>\n",
       "      <td>245</td>\n",
       "      <td>8</td>\n",
       "      <td>328</td>\n",
       "      <td>-91</td>\n",
       "      <td>4257243</td>\n",
       "      <td>143858</td>\n",
       "      <td>4105680</td>\n",
       "      <td>...</td>\n",
       "      <td>-0.789275</td>\n",
       "      <td>0.92</td>\n",
       "      <td>16053.83</td>\n",
       "      <td>0.03</td>\n",
       "      <td>542.48</td>\n",
       "      <td>54.25</td>\n",
       "      <td>3.38%</td>\n",
       "      <td>96.44%</td>\n",
       "      <td>0.79</td>\n",
       "      <td>0.8</td>\n",
       "    </tr>\n",
       "  </tbody>\n",
       "</table>\n",
       "<p>3 rows × 38 columns</p>\n",
       "</div>"
      ],
      "text/plain": [
       "            Date Location ISO Code          Location  New Cases  New Deaths  \\\n",
       "21756  12/2/2021             ID-SS  Sumatera Selatan          4           0   \n",
       "21757  12/2/2021             ID-SU    Sumatera Utara          4           0   \n",
       "21758  12/3/2021               IDN         Indonesia        245           8   \n",
       "\n",
       "       New Recovered  New Active Cases  Total Cases  Total Deaths  \\\n",
       "21756              0                 4        59937          3071   \n",
       "21757              1                 3       106045          2889   \n",
       "21758            328               -91      4257243        143858   \n",
       "\n",
       "       Total Recovered  ...  Latitude New Cases per Million  \\\n",
       "21756            56830  ... -3.216212                  0.49   \n",
       "21757           103061  ...  2.191894                  0.27   \n",
       "21758          4105680  ... -0.789275                  0.92   \n",
       "\n",
       "       Total Cases per Million New Deaths per Million  \\\n",
       "21756                  7293.78                   0.00   \n",
       "21757                  7129.13                   0.00   \n",
       "21758                 16053.83                   0.03   \n",
       "\n",
       "      Total Deaths per Million Total Deaths per 100rb Case Fatality Rate  \\\n",
       "21756                   373.71                  37.37              5.12%   \n",
       "21757                   194.22                  19.42              2.72%   \n",
       "21758                   542.48                  54.25              3.38%   \n",
       "\n",
       "      Case Recovered Rate Growth Factor of New Cases  \\\n",
       "21756              94.82%                       4.00   \n",
       "21757              97.19%                       1.00   \n",
       "21758              96.44%                       0.79   \n",
       "\n",
       "       Growth Factor of New Deaths  \n",
       "21756                          1.0  \n",
       "21757                          1.0  \n",
       "21758                          0.8  \n",
       "\n",
       "[3 rows x 38 columns]"
      ]
     },
     "execution_count": 12,
     "metadata": {},
     "output_type": "execute_result"
    }
   ],
   "source": [
    "df.tail(3)"
   ]
  },
  {
   "cell_type": "markdown",
   "id": "865c1b24-97d5-43f0-9060-785c0dae11cd",
   "metadata": {},
   "source": [
    "##### These are the only tables that will be used\n",
    "\n",
    "| Variable | Definition | \n",
    "| --- | --- | \n",
    "| New Cases | New daily positive cases |\n",
    "| New Deaths | New daily deaths |\n",
    "| New Recovered | New daily recovered |\n",
    "| New Active Cases | New daily active cases | "
   ]
  },
  {
   "cell_type": "code",
   "execution_count": 5,
   "id": "ce0780ef-1e5d-4fa9-8581-2a69873b9d21",
   "metadata": {},
   "outputs": [
    {
     "data": {
      "text/html": [
       "<div>\n",
       "<style scoped>\n",
       "    .dataframe tbody tr th:only-of-type {\n",
       "        vertical-align: middle;\n",
       "    }\n",
       "\n",
       "    .dataframe tbody tr th {\n",
       "        vertical-align: top;\n",
       "    }\n",
       "\n",
       "    .dataframe thead th {\n",
       "        text-align: right;\n",
       "    }\n",
       "</style>\n",
       "<table border=\"1\" class=\"dataframe\">\n",
       "  <thead>\n",
       "    <tr style=\"text-align: right;\">\n",
       "      <th></th>\n",
       "      <th>New Cases</th>\n",
       "      <th>New Deaths</th>\n",
       "      <th>New Recovered</th>\n",
       "      <th>New Active Cases</th>\n",
       "    </tr>\n",
       "  </thead>\n",
       "  <tbody>\n",
       "    <tr>\n",
       "      <th>0</th>\n",
       "      <td>2</td>\n",
       "      <td>0</td>\n",
       "      <td>0</td>\n",
       "      <td>2</td>\n",
       "    </tr>\n",
       "    <tr>\n",
       "      <th>1</th>\n",
       "      <td>2</td>\n",
       "      <td>0</td>\n",
       "      <td>0</td>\n",
       "      <td>2</td>\n",
       "    </tr>\n",
       "    <tr>\n",
       "      <th>2</th>\n",
       "      <td>2</td>\n",
       "      <td>0</td>\n",
       "      <td>0</td>\n",
       "      <td>2</td>\n",
       "    </tr>\n",
       "  </tbody>\n",
       "</table>\n",
       "</div>"
      ],
      "text/plain": [
       "   New Cases  New Deaths  New Recovered  New Active Cases\n",
       "0          2           0              0                 2\n",
       "1          2           0              0                 2\n",
       "2          2           0              0                 2"
      ]
     },
     "execution_count": 5,
     "metadata": {},
     "output_type": "execute_result"
    }
   ],
   "source": [
    "df_new = df[['New Cases', 'New Deaths', 'New Recovered', 'New Active Cases']]"
   ]
  },
  {
   "cell_type": "code",
   "execution_count": 7,
   "id": "258508ef-57cc-4ed1-bae1-b47717872b96",
   "metadata": {},
   "outputs": [
    {
     "data": {
      "text/html": [
       "<div>\n",
       "<style scoped>\n",
       "    .dataframe tbody tr th:only-of-type {\n",
       "        vertical-align: middle;\n",
       "    }\n",
       "\n",
       "    .dataframe tbody tr th {\n",
       "        vertical-align: top;\n",
       "    }\n",
       "\n",
       "    .dataframe thead th {\n",
       "        text-align: right;\n",
       "    }\n",
       "</style>\n",
       "<table border=\"1\" class=\"dataframe\">\n",
       "  <thead>\n",
       "    <tr style=\"text-align: right;\">\n",
       "      <th></th>\n",
       "      <th>New Cases</th>\n",
       "      <th>New Deaths</th>\n",
       "      <th>New Recovered</th>\n",
       "      <th>New Active Cases</th>\n",
       "    </tr>\n",
       "  </thead>\n",
       "  <tbody>\n",
       "    <tr>\n",
       "      <th>0</th>\n",
       "      <td>2</td>\n",
       "      <td>0</td>\n",
       "      <td>0</td>\n",
       "      <td>2</td>\n",
       "    </tr>\n",
       "    <tr>\n",
       "      <th>1</th>\n",
       "      <td>2</td>\n",
       "      <td>0</td>\n",
       "      <td>0</td>\n",
       "      <td>2</td>\n",
       "    </tr>\n",
       "    <tr>\n",
       "      <th>2</th>\n",
       "      <td>2</td>\n",
       "      <td>0</td>\n",
       "      <td>0</td>\n",
       "      <td>2</td>\n",
       "    </tr>\n",
       "  </tbody>\n",
       "</table>\n",
       "</div>"
      ],
      "text/plain": [
       "   New Cases  New Deaths  New Recovered  New Active Cases\n",
       "0          2           0              0                 2\n",
       "1          2           0              0                 2\n",
       "2          2           0              0                 2"
      ]
     },
     "execution_count": 7,
     "metadata": {},
     "output_type": "execute_result"
    }
   ],
   "source": [
    "df_new.head(3)"
   ]
  },
  {
   "cell_type": "code",
   "execution_count": 8,
   "id": "3bd0d3ee-1436-44c1-9024-0199453f28ce",
   "metadata": {},
   "outputs": [
    {
     "data": {
      "text/html": [
       "<div>\n",
       "<style scoped>\n",
       "    .dataframe tbody tr th:only-of-type {\n",
       "        vertical-align: middle;\n",
       "    }\n",
       "\n",
       "    .dataframe tbody tr th {\n",
       "        vertical-align: top;\n",
       "    }\n",
       "\n",
       "    .dataframe thead th {\n",
       "        text-align: right;\n",
       "    }\n",
       "</style>\n",
       "<table border=\"1\" class=\"dataframe\">\n",
       "  <thead>\n",
       "    <tr style=\"text-align: right;\">\n",
       "      <th></th>\n",
       "      <th>New Cases</th>\n",
       "      <th>New Deaths</th>\n",
       "      <th>New Recovered</th>\n",
       "      <th>New Active Cases</th>\n",
       "    </tr>\n",
       "  </thead>\n",
       "  <tbody>\n",
       "    <tr>\n",
       "      <th>21756</th>\n",
       "      <td>4</td>\n",
       "      <td>0</td>\n",
       "      <td>0</td>\n",
       "      <td>4</td>\n",
       "    </tr>\n",
       "    <tr>\n",
       "      <th>21757</th>\n",
       "      <td>4</td>\n",
       "      <td>0</td>\n",
       "      <td>1</td>\n",
       "      <td>3</td>\n",
       "    </tr>\n",
       "    <tr>\n",
       "      <th>21758</th>\n",
       "      <td>245</td>\n",
       "      <td>8</td>\n",
       "      <td>328</td>\n",
       "      <td>-91</td>\n",
       "    </tr>\n",
       "  </tbody>\n",
       "</table>\n",
       "</div>"
      ],
      "text/plain": [
       "       New Cases  New Deaths  New Recovered  New Active Cases\n",
       "21756          4           0              0                 4\n",
       "21757          4           0              1                 3\n",
       "21758        245           8            328               -91"
      ]
     },
     "execution_count": 8,
     "metadata": {},
     "output_type": "execute_result"
    }
   ],
   "source": [
    "df_new.tail(3)"
   ]
  },
  {
   "cell_type": "markdown",
   "id": "41397291-aaa1-44a7-b561-497b9e8d68f7",
   "metadata": {},
   "source": [
    "####  Problem 2"
   ]
  },
  {
   "cell_type": "markdown",
   "id": "13a769c7-a5a6-4f41-a17f-0bd5c83f456e",
   "metadata": {},
   "source": [
    "- mean/average"
   ]
  },
  {
   "cell_type": "code",
   "execution_count": 18,
   "id": "addd769a-280c-454d-b01c-29fb963262d3",
   "metadata": {},
   "outputs": [
    {
     "data": {
      "text/plain": [
       "New Cases           391.293580\n",
       "New Deaths           13.220415\n",
       "New Recovered       377.310998\n",
       "New Active Cases      0.762167\n",
       "dtype: float64"
      ]
     },
     "execution_count": 18,
     "metadata": {},
     "output_type": "execute_result"
    }
   ],
   "source": [
    "df_new.mean()"
   ]
  },
  {
   "cell_type": "markdown",
   "id": "fb1ef8fd-ea26-4965-92fb-19118749b5e2",
   "metadata": {},
   "source": [
    "- median"
   ]
  },
  {
   "cell_type": "code",
   "execution_count": 19,
   "id": "c2c89430-8734-4eb3-997e-9faf6acf25c8",
   "metadata": {},
   "outputs": [
    {
     "data": {
      "text/plain": [
       "New Cases           41.0\n",
       "New Deaths           1.0\n",
       "New Recovered       31.0\n",
       "New Active Cases     0.0\n",
       "dtype: float64"
      ]
     },
     "execution_count": 19,
     "metadata": {},
     "output_type": "execute_result"
    }
   ],
   "source": [
    "df_new.median()"
   ]
  },
  {
   "cell_type": "markdown",
   "id": "2dd23425-bbf6-464d-a5df-d15a9e768f33",
   "metadata": {},
   "source": [
    "columns `New Cases`, `New Deaths`, and `New Recovered` have huge difference on their mean and median which indicates that those 3 columns have a skewed distribution that will be further explained with skewness "
   ]
  },
  {
   "cell_type": "markdown",
   "id": "d72c2cc9-92c4-418f-977a-2695ff30f431",
   "metadata": {},
   "source": [
    "- median"
   ]
  },
  {
   "cell_type": "code",
   "execution_count": 20,
   "id": "5d481de2-f3a1-4756-ae5a-43bc4ddaaa18",
   "metadata": {},
   "outputs": [
    {
     "data": {
      "text/html": [
       "<div>\n",
       "<style scoped>\n",
       "    .dataframe tbody tr th:only-of-type {\n",
       "        vertical-align: middle;\n",
       "    }\n",
       "\n",
       "    .dataframe tbody tr th {\n",
       "        vertical-align: top;\n",
       "    }\n",
       "\n",
       "    .dataframe thead th {\n",
       "        text-align: right;\n",
       "    }\n",
       "</style>\n",
       "<table border=\"1\" class=\"dataframe\">\n",
       "  <thead>\n",
       "    <tr style=\"text-align: right;\">\n",
       "      <th></th>\n",
       "      <th>New Cases</th>\n",
       "      <th>New Deaths</th>\n",
       "      <th>New Recovered</th>\n",
       "      <th>New Active Cases</th>\n",
       "    </tr>\n",
       "  </thead>\n",
       "  <tbody>\n",
       "    <tr>\n",
       "      <th>0</th>\n",
       "      <td>0</td>\n",
       "      <td>0</td>\n",
       "      <td>0</td>\n",
       "      <td>0</td>\n",
       "    </tr>\n",
       "  </tbody>\n",
       "</table>\n",
       "</div>"
      ],
      "text/plain": [
       "   New Cases  New Deaths  New Recovered  New Active Cases\n",
       "0          0           0              0                 0"
      ]
     },
     "execution_count": 20,
     "metadata": {},
     "output_type": "execute_result"
    }
   ],
   "source": [
    "df_new.mode()"
   ]
  },
  {
   "cell_type": "markdown",
   "id": "51163d25-c6d6-4070-8706-d6aa5da89f4e",
   "metadata": {},
   "source": [
    "since we use numerical data, using mode will not give us a lot of information as shown above"
   ]
  },
  {
   "cell_type": "markdown",
   "id": "5a1c605b-6606-4130-8e32-07d834361e18",
   "metadata": {},
   "source": [
    "- Skewness"
   ]
  },
  {
   "cell_type": "code",
   "execution_count": 21,
   "id": "fa231f86-089d-4e9e-a793-4719d027a012",
   "metadata": {},
   "outputs": [
    {
     "data": {
      "text/plain": [
       "New Cases           14.819784\n",
       "New Deaths          15.486513\n",
       "New Recovered       13.994169\n",
       "New Active Cases     4.962833\n",
       "dtype: float64"
      ]
     },
     "execution_count": 21,
     "metadata": {},
     "output_type": "execute_result"
    }
   ],
   "source": [
    "df_new.skew()"
   ]
  },
  {
   "cell_type": "markdown",
   "id": "2cad5c4f-41f2-415a-b6bb-64e859615e9c",
   "metadata": {},
   "source": [
    "because all of the columns's skewness value are more than 1, so we can say that the distribution of all of the columns are right-skewed"
   ]
  },
  {
   "cell_type": "markdown",
   "id": "8df96c9f-7a8b-4372-8225-c52b0c7cb5df",
   "metadata": {},
   "source": [
    "- Kurtosis"
   ]
  },
  {
   "cell_type": "code",
   "execution_count": 22,
   "id": "3e840431-1054-4abd-abc3-a1d31a7a8872",
   "metadata": {},
   "outputs": [
    {
     "data": {
      "text/plain": [
       "New Cases           282.068710\n",
       "New Deaths          296.433852\n",
       "New Recovered       246.665546\n",
       "New Active Cases    413.547100\n",
       "dtype: float64"
      ]
     },
     "execution_count": 22,
     "metadata": {},
     "output_type": "execute_result"
    }
   ],
   "source": [
    "df_new.kurt()"
   ]
  },
  {
   "cell_type": "markdown",
   "id": "38d3645e-5387-4568-a6e4-01cfb744deb4",
   "metadata": {},
   "source": [
    "we got a really big value for the kurtosis of each column that indicated all of our columns have A leptokurtic distribution or fat-tailed distribution which means there are a lot of outliers for each column.  "
   ]
  },
  {
   "cell_type": "markdown",
   "id": "24673321-7f46-4d1a-ba46-0b3c74c2aeb1",
   "metadata": {},
   "source": [
    "####  Problem 3"
   ]
  },
  {
   "cell_type": "markdown",
   "id": "1d4f1607-d691-4414-8a62-0b81f54be5f9",
   "metadata": {},
   "source": [
    "- range"
   ]
  },
  {
   "cell_type": "code",
   "execution_count": 27,
   "id": "310c0e74-f7bb-458f-a3a8-3c633ccdc070",
   "metadata": {},
   "outputs": [
    {
     "data": {
      "text/plain": [
       "New Cases           56757\n",
       "New Deaths           2069\n",
       "New Recovered       48832\n",
       "New Active Cases    36726\n",
       "dtype: int64"
      ]
     },
     "execution_count": 27,
     "metadata": {},
     "output_type": "execute_result"
    }
   ],
   "source": [
    "max_val = df_new.max()\n",
    "max_val"
   ]
  },
  {
   "cell_type": "code",
   "execution_count": 28,
   "id": "8b9e7808-9a07-4591-af1c-a15407b46546",
   "metadata": {},
   "outputs": [
    {
     "data": {
      "text/plain": [
       "New Cases               0\n",
       "New Deaths              0\n",
       "New Recovered           0\n",
       "New Active Cases   -25725\n",
       "dtype: int64"
      ]
     },
     "execution_count": 28,
     "metadata": {},
     "output_type": "execute_result"
    }
   ],
   "source": [
    "min_val = df_new.min()\n",
    "min_val"
   ]
  },
  {
   "cell_type": "code",
   "execution_count": 29,
   "id": "5e444103-84b1-4723-841b-b5f2a1daf0d1",
   "metadata": {},
   "outputs": [
    {
     "data": {
      "text/plain": [
       "New Cases           56757\n",
       "New Deaths           2069\n",
       "New Recovered       48832\n",
       "New Active Cases    62451\n",
       "dtype: int64"
      ]
     },
     "execution_count": 29,
     "metadata": {},
     "output_type": "execute_result"
    }
   ],
   "source": [
    "max_val - min_val"
   ]
  },
  {
   "cell_type": "markdown",
   "id": "d31a7000-8735-4816-b229-9d01e0bd743e",
   "metadata": {},
   "source": [
    "Using range wouldn't be to insighful due to the fact that all of the minimal value of each column is 0 except `New Active Cases` that has a negative value that will give an incorrect interpretation"
   ]
  },
  {
   "cell_type": "markdown",
   "id": "15dad3fa-a858-46f4-b1f3-c5570ada31cd",
   "metadata": {},
   "source": [
    "- IQR"
   ]
  },
  {
   "cell_type": "code",
   "execution_count": 33,
   "id": "3c3d6d07-706a-4a17-a90b-69c44c653298",
   "metadata": {},
   "outputs": [
    {
     "data": {
      "text/html": [
       "<div>\n",
       "<style scoped>\n",
       "    .dataframe tbody tr th:only-of-type {\n",
       "        vertical-align: middle;\n",
       "    }\n",
       "\n",
       "    .dataframe tbody tr th {\n",
       "        vertical-align: top;\n",
       "    }\n",
       "\n",
       "    .dataframe thead th {\n",
       "        text-align: right;\n",
       "    }\n",
       "</style>\n",
       "<table border=\"1\" class=\"dataframe\">\n",
       "  <thead>\n",
       "    <tr style=\"text-align: right;\">\n",
       "      <th></th>\n",
       "      <th>0.25</th>\n",
       "      <th>0.50</th>\n",
       "      <th>0.75</th>\n",
       "    </tr>\n",
       "  </thead>\n",
       "  <tbody>\n",
       "    <tr>\n",
       "      <th>New Cases</th>\n",
       "      <td>7.0</td>\n",
       "      <td>41.0</td>\n",
       "      <td>151.0</td>\n",
       "    </tr>\n",
       "    <tr>\n",
       "      <th>New Deaths</th>\n",
       "      <td>0.0</td>\n",
       "      <td>1.0</td>\n",
       "      <td>5.0</td>\n",
       "    </tr>\n",
       "    <tr>\n",
       "      <th>New Recovered</th>\n",
       "      <td>4.0</td>\n",
       "      <td>31.0</td>\n",
       "      <td>143.0</td>\n",
       "    </tr>\n",
       "    <tr>\n",
       "      <th>New Active Cases</th>\n",
       "      <td>-16.0</td>\n",
       "      <td>0.0</td>\n",
       "      <td>27.0</td>\n",
       "    </tr>\n",
       "  </tbody>\n",
       "</table>\n",
       "</div>"
      ],
      "text/plain": [
       "                  0.25  0.50   0.75\n",
       "New Cases          7.0  41.0  151.0\n",
       "New Deaths         0.0   1.0    5.0\n",
       "New Recovered      4.0  31.0  143.0\n",
       "New Active Cases -16.0   0.0   27.0"
      ]
     },
     "execution_count": 33,
     "metadata": {},
     "output_type": "execute_result"
    }
   ],
   "source": [
    "# counting the 25th, 50th (median), 75th quartiles of each column\n",
    "df_quartile = df_new.quantile([0.25,0.5,0.75]).T\n",
    "df_quartile"
   ]
  },
  {
   "cell_type": "markdown",
   "id": "95f1981f-cead-4ebb-b28c-0a01c51baa7c",
   "metadata": {},
   "source": [
    "This method is a little better to give us the idea of how the data spread throught out the dataset, although there are still some weird stuff such as the negative value for the 25th quartile of `New Active Cases` and others"
   ]
  },
  {
   "cell_type": "code",
   "execution_count": 37,
   "id": "310f4d9e-d929-4f8f-9710-16d923e2524d",
   "metadata": {},
   "outputs": [
    {
     "data": {
      "text/plain": [
       "New Cases           151.0\n",
       "New Deaths            5.0\n",
       "New Recovered       143.0\n",
       "New Active Cases     27.0\n",
       "Name: 0.75, dtype: float64"
      ]
     },
     "execution_count": 37,
     "metadata": {},
     "output_type": "execute_result"
    }
   ],
   "source": [
    "df_quartile[0.75]"
   ]
  },
  {
   "cell_type": "code",
   "execution_count": 39,
   "id": "0a6d1627-601b-42ff-94d1-d114d5c78e96",
   "metadata": {},
   "outputs": [],
   "source": [
    "# counting IQR for each column\n",
    "\n",
    "df_quartile['IQR'] = df_quartile.apply(lambda x: x[0.75] - x[0.25], axis=1)"
   ]
  },
  {
   "cell_type": "code",
   "execution_count": 40,
   "id": "6b455ad1-6e51-4402-9209-5541829df309",
   "metadata": {},
   "outputs": [
    {
     "data": {
      "text/html": [
       "<div>\n",
       "<style scoped>\n",
       "    .dataframe tbody tr th:only-of-type {\n",
       "        vertical-align: middle;\n",
       "    }\n",
       "\n",
       "    .dataframe tbody tr th {\n",
       "        vertical-align: top;\n",
       "    }\n",
       "\n",
       "    .dataframe thead th {\n",
       "        text-align: right;\n",
       "    }\n",
       "</style>\n",
       "<table border=\"1\" class=\"dataframe\">\n",
       "  <thead>\n",
       "    <tr style=\"text-align: right;\">\n",
       "      <th></th>\n",
       "      <th>0.25</th>\n",
       "      <th>0.5</th>\n",
       "      <th>0.75</th>\n",
       "      <th>IQR</th>\n",
       "    </tr>\n",
       "  </thead>\n",
       "  <tbody>\n",
       "    <tr>\n",
       "      <th>New Cases</th>\n",
       "      <td>7.0</td>\n",
       "      <td>41.0</td>\n",
       "      <td>151.0</td>\n",
       "      <td>144.0</td>\n",
       "    </tr>\n",
       "    <tr>\n",
       "      <th>New Deaths</th>\n",
       "      <td>0.0</td>\n",
       "      <td>1.0</td>\n",
       "      <td>5.0</td>\n",
       "      <td>5.0</td>\n",
       "    </tr>\n",
       "    <tr>\n",
       "      <th>New Recovered</th>\n",
       "      <td>4.0</td>\n",
       "      <td>31.0</td>\n",
       "      <td>143.0</td>\n",
       "      <td>139.0</td>\n",
       "    </tr>\n",
       "    <tr>\n",
       "      <th>New Active Cases</th>\n",
       "      <td>-16.0</td>\n",
       "      <td>0.0</td>\n",
       "      <td>27.0</td>\n",
       "      <td>43.0</td>\n",
       "    </tr>\n",
       "  </tbody>\n",
       "</table>\n",
       "</div>"
      ],
      "text/plain": [
       "                  0.25   0.5   0.75    IQR\n",
       "New Cases          7.0  41.0  151.0  144.0\n",
       "New Deaths         0.0   1.0    5.0    5.0\n",
       "New Recovered      4.0  31.0  143.0  139.0\n",
       "New Active Cases -16.0   0.0   27.0   43.0"
      ]
     },
     "execution_count": 40,
     "metadata": {},
     "output_type": "execute_result"
    }
   ],
   "source": [
    "df_quartile"
   ]
  },
  {
   "cell_type": "markdown",
   "id": "66dedc29-5c0e-4372-b9f4-8e0ca7d9a6cb",
   "metadata": {},
   "source": [
    "similar to range that we have calculated before, `New Active Cases` gives a weird output since the 25th quartile is negative hence instead of subtracting, it's adding the 75th quartile."
   ]
  },
  {
   "cell_type": "markdown",
   "id": "a39abe69-4870-4cc0-82bf-45fbcefd9bae",
   "metadata": {},
   "source": [
    "- Variance/Standard Deviation"
   ]
  },
  {
   "cell_type": "code",
   "execution_count": 43,
   "id": "095917d4-913f-476b-8491-0c15c75e61f2",
   "metadata": {},
   "outputs": [
    {
     "data": {
      "text/plain": [
       "New Cases           4.303762e+06\n",
       "New Deaths          5.849591e+03\n",
       "New Recovered       3.996251e+06\n",
       "New Active Cases    8.783692e+05\n",
       "dtype: float64"
      ]
     },
     "execution_count": 43,
     "metadata": {},
     "output_type": "execute_result"
    }
   ],
   "source": [
    "df_new.var()"
   ]
  },
  {
   "cell_type": "code",
   "execution_count": 44,
   "id": "7753e898-fee9-4fab-8df2-b8007710fa71",
   "metadata": {},
   "outputs": [
    {
     "data": {
      "text/plain": [
       "New Cases           2074.551043\n",
       "New Deaths            76.482617\n",
       "New Recovered       1999.062563\n",
       "New Active Cases     937.213509\n",
       "dtype: float64"
      ]
     },
     "execution_count": 44,
     "metadata": {},
     "output_type": "execute_result"
    }
   ],
   "source": [
    "df_new.std()"
   ]
  },
  {
   "cell_type": "markdown",
   "id": "198c3c0c-9819-4d3e-b09b-ea3ddc50509c",
   "metadata": {},
   "source": [
    "both standard deviation adn variance indicate that the data are spread really wide especially column `New Cases`, `New Deaths` and `New Active Cases`"
   ]
  }
 ],
 "metadata": {
  "kernelspec": {
   "display_name": "Python 3",
   "language": "python",
   "name": "python3"
  },
  "language_info": {
   "codemirror_mode": {
    "name": "ipython",
    "version": 3
   },
   "file_extension": ".py",
   "mimetype": "text/x-python",
   "name": "python",
   "nbconvert_exporter": "python",
   "pygments_lexer": "ipython3",
   "version": "3.8.8"
  }
 },
 "nbformat": 4,
 "nbformat_minor": 5
}
