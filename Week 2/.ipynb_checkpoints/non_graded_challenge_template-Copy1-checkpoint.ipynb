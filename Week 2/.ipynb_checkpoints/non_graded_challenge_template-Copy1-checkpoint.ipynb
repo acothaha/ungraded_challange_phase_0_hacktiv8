{
 "cells": [
  {
   "cell_type": "markdown",
   "id": "0b1bbfc5-af08-49f6-9092-f79f421d1534",
   "metadata": {},
   "source": [
    "# Full Stack Data Science // Non-Graded Challenge 5"
   ]
  },
  {
   "cell_type": "markdown",
   "id": "f813472d-e68b-448f-8954-133d345eea79",
   "metadata": {},
   "source": [
    "## Instruction "
   ]
  },
  {
   "cell_type": "markdown",
   "id": "b9c07ff6-1cac-4249-8bf6-93babd007808",
   "metadata": {},
   "source": [
    "1. ![problem 1](Capture1.PNG)\n",
    "\n",
    "2. \n",
    "\n",
    "3. "
   ]
  },
  {
   "cell_type": "markdown",
   "id": "0207f148-f5e1-4ef0-a2d4-dd50c45182ee",
   "metadata": {},
   "source": [
    "## Import Libraries \n",
    "\n",
    "These are libraries that are used in this assignment:\n",
    "\n",
    "- numpy : Used to create vector and do vector calculation\n",
    "\n",
    "- matplotlib : used to create visualization of the data"
   ]
  },
  {
   "cell_type": "code",
   "execution_count": 19,
   "id": "caa3d4fe-e6ac-4f04-835d-0a7a92b67521",
   "metadata": {},
   "outputs": [],
   "source": [
    "import numpy as np\n",
    "import matplotlib.pyplot as plt"
   ]
  },
  {
   "cell_type": "markdown",
   "id": "ed83c0f1-0497-4113-826f-dd915809279a",
   "metadata": {},
   "source": [
    "## Answer "
   ]
  },
  {
   "cell_type": "markdown",
   "id": "6bdf72c3-cce8-4b13-aed0-fab541229cc1",
   "metadata": {},
   "source": [
    "####  Problem 1"
   ]
  },
  {
   "cell_type": "markdown",
   "id": "41397291-aaa1-44a7-b561-497b9e8d68f7",
   "metadata": {},
   "source": [
    "####  Problem 2"
   ]
  },
  {
   "cell_type": "markdown",
   "id": "24673321-7f46-4d1a-ba46-0b3c74c2aeb1",
   "metadata": {},
   "source": [
    "####  Problem 3"
   ]
  }
 ],
 "metadata": {
  "kernelspec": {
   "display_name": "Python 3",
   "language": "python",
   "name": "python3"
  },
  "language_info": {
   "codemirror_mode": {
    "name": "ipython",
    "version": 3
   },
   "file_extension": ".py",
   "mimetype": "text/x-python",
   "name": "python",
   "nbconvert_exporter": "python",
   "pygments_lexer": "ipython3",
   "version": "3.8.8"
  }
 },
 "nbformat": 4,
 "nbformat_minor": 5
}
